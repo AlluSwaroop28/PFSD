{
  "nbformat": 4,
  "nbformat_minor": 0,
  "metadata": {
    "colab": {
      "name": "Arithematic_equation.ipynb",
      "provenance": [],
      "authorship_tag": "ABX9TyO6MTuoy8rNWmrLijsCB8CF",
      "include_colab_link": true
    },
    "kernelspec": {
      "name": "python3",
      "display_name": "Python 3"
    },
    "language_info": {
      "name": "python"
    }
  },
  "cells": [
    {
      "cell_type": "markdown",
      "metadata": {
        "id": "view-in-github",
        "colab_type": "text"
      },
      "source": [
        "<a href=\"https://colab.research.google.com/github/AlluSwaroop28/PFSD/blob/main/Arithematic_equation.ipynb\" target=\"_parent\"><img src=\"https://colab.research.google.com/assets/colab-badge.svg\" alt=\"Open In Colab\"/></a>"
      ]
    },
    {
      "cell_type": "code",
      "execution_count": null,
      "metadata": {
        "id": "RNqq6yfsccZF"
      },
      "outputs": [],
      "source": [
        "a = 21\n",
        "b = 10\n",
        "c = 0\n",
        "\n",
        "c = a + b\n",
        "print \"a + b is \", c\n",
        "\n",
        "c = a - b\n",
        "print \"a + b is \", c\n",
        "\n",
        "c = a * b\n",
        "print \"a + b is \", c \n",
        "\n",
        "c = a / b\n",
        "print \"a + b is \", c \n",
        "\n",
        "c = a % b\n",
        "print \"a + b is \", c"
      ]
    }
  ]
}